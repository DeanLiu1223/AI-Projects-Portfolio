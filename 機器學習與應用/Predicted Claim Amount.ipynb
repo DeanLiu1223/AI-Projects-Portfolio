{
 "cells": [
  {
   "cell_type": "code",
   "execution_count": 2,
   "id": "a5443ba4",
   "metadata": {},
   "outputs": [],
   "source": [
    "# 導入Python數據處理套件\n",
    "import numpy as np\n",
    "import pandas as pd\n",
    "# 導入繪圖套件\n",
    "import matplotlib.pyplot as plt\n",
    "# 導入迴歸模型套件\n",
    "from sklearn.linear_model import LinearRegression"
   ]
  },
  {
   "cell_type": "code",
   "execution_count": 3,
   "id": "c5ae867d",
   "metadata": {},
   "outputs": [
    {
     "name": "stdout",
     "output_type": "stream",
     "text": [
      "    age   bmi  bloodpressure  children  diabetic  smoker  is_male  \\\n",
      "0  32.0  39.0           96.0       0.0      True    True    False   \n",
      "1  41.0  31.1           93.0       0.0     False   False    False   \n",
      "2  47.0  23.1           92.0       0.0     False   False    False   \n",
      "3  34.0  30.7           90.0       1.0     False   False    False   \n",
      "4  60.0  32.1           98.0       2.0     False   False    False   \n",
      "\n",
      "   region_northeast  region_northwest  region_southeast  region_southwest  \n",
      "0                 0                 1                 0                 0  \n",
      "1                 0                 0                 1                 0  \n",
      "2                 1                 0                 0                 0  \n",
      "3                 0                 0                 1                 0  \n",
      "4                 0                 0                 1                 0  \n",
      "--------------------------------------------------------------------------------\n",
      "    age   bmi  bloodpressure  children  diabetic  smoker  is_male  \\\n",
      "0  22.0  34.1          108.0       0.0     False    True     True   \n",
      "1  28.0  21.8           81.0       0.0     False    True    False   \n",
      "2  38.0  34.8          132.0       2.0     False    True    False   \n",
      "3  44.0  27.0          100.0       2.0      True   False     True   \n",
      "4  23.0  31.4           88.0       1.0     False   False     True   \n",
      "\n",
      "   region_northeast  region_northwest  region_southeast  region_southwest  \n",
      "0                 1                 0                 0                 0  \n",
      "1                 0                 0                 0                 1  \n",
      "2                 0                 0                 0                 1  \n",
      "3                 0                 0                 1                 0  \n",
      "4                 0                 0                 0                 1  \n",
      "--------------------------------------------------------------------------------\n",
      "      claim\n",
      "0  42983.46\n",
      "1   8280.62\n",
      "2  14451.84\n",
      "3   5976.83\n",
      "4   2801.26\n",
      "--------------------------------------------------------------------------------\n",
      "      claim\n",
      "0  43254.42\n",
      "1  20167.34\n",
      "2  39836.52\n",
      "3   4435.09\n",
      "4   3659.35\n"
     ]
    }
   ],
   "source": [
    "# 讀取CSV檔\n",
    "data = \"/split_data\"\n",
    "X_train = pd.read_csv(\".\" + data*3 + \"(0.2)/X_train.csv\")\n",
    "X_test = pd.read_csv(\".\" + data*3 + \"(0.2)/X_test.csv\")\n",
    "y_train = pd.read_csv(\".\" + data*3 + \"(0.2)/y_train.csv\")\n",
    "y_test = pd.read_csv(\".\" + data*3 + \"(0.2)/y_test.csv\")\n",
    "print(X_train.head())\n",
    "print(\"-\"*80)\n",
    "print(X_test.head())\n",
    "print(\"-\"*80)\n",
    "print(y_train.head())\n",
    "print(\"-\"*80)\n",
    "print(y_test.head())"
   ]
  },
  {
   "cell_type": "code",
   "execution_count": 4,
   "id": "bc9d0dc2",
   "metadata": {},
   "outputs": [
    {
     "name": "stdout",
     "output_type": "stream",
     "text": [
      "(1065, 11) (1065,)\n",
      "(267, 11) (267,)\n"
     ]
    }
   ],
   "source": [
    "# 選擇特定特徵列\n",
    "X_train = X_train[['age','bmi','bloodpressure','children','diabetic','smoker','is_male',\n",
    "                   'region_northeast','region_northwest','region_southeast','region_southwest']]\n",
    "X_test = X_test[['age','bmi','bloodpressure','children','diabetic','smoker','is_male',\n",
    "                 'region_northeast','region_northwest','region_southeast','region_southwest']]\n",
    "y_train = y_train['claim']\n",
    "y_test = y_test['claim']\n",
    "print(X_train.shape, y_train.shape)\n",
    "print(X_test.shape, y_test.shape)"
   ]
  },
  {
   "cell_type": "code",
   "execution_count": 5,
   "id": "11f46038",
   "metadata": {},
   "outputs": [],
   "source": [
    "# 導入迴歸模型套件\n",
    "from sklearn.linear_model import LinearRegression\n",
    "\n",
    "# 訓練多元迴歸模型\n",
    "regressor = LinearRegression()\n",
    "regressor.fit(X_train,y_train)\n",
    "\n",
    "# 使用模型進行預測\n",
    "y_pred = regressor.predict(X_test)"
   ]
  },
  {
   "cell_type": "code",
   "execution_count": 6,
   "id": "b92100fe",
   "metadata": {
    "scrolled": true
   },
   "outputs": [
    {
     "name": "stdout",
     "output_type": "stream",
     "text": [
      "平均平方誤差 (MSE): 38870745.3411\n",
      "絕對平均誤差 (MAE): 4910.9065\n",
      "決定係數 (R2): 0.7303\n"
     ]
    }
   ],
   "source": [
    "# 導入評估模型\n",
    "from sklearn.metrics import mean_squared_error, r2_score, mean_absolute_error\n",
    "\n",
    "# 評估模型性能\n",
    "mse = mean_squared_error(y_test, y_pred)\n",
    "mae = mean_absolute_error(y_test, y_pred)\n",
    "r2 = r2_score(y_test, y_pred)\n",
    "print(\"平均平方誤差 (MSE):\", mse.round(4))\n",
    "print(\"絕對平均誤差 (MAE):\", mae.round(4))\n",
    "print(\"決定係數 (R2):\", r2.round(4))"
   ]
  },
  {
   "cell_type": "code",
   "execution_count": 7,
   "id": "f1c0a6f7",
   "metadata": {},
   "outputs": [
    {
     "data": {
      "image/png": "[encoded data removed]",
      "text/plain": [
       "<Figure size 432x288 with 1 Axes>"
      ]
     },
     "metadata": {
      "needs_background": "light"
     },
     "output_type": "display_data"
    }
   ],
   "source": [
    "def learning_curve(model):\n",
    "  # 創建儲存評估分數的array\n",
    "  train_errors, test_errors = [], []\n",
    " \n",
    "  # 依照 dataset的 size取得 觀察在不同大小的 dataset model的學習情況\n",
    "  for m in range(1, len(X_train)):\n",
    "      model.fit(X_train[:m], y_train[:m])\n",
    "      y_train_predict = model.predict(X_train[:m])\n",
    "      y_test_predict = model.predict(X_test)\n",
    "      train_errors.append(mean_absolute_error(y_train[:m], y_train_predict))\n",
    "      test_errors.append(mean_absolute_error(y_test, y_test_predict))\n",
    " \n",
    "  # 畫學習曲線\n",
    "  plt.figure()\n",
    "  plt.title(\"Learning Curve\")\n",
    "  plt.plot(range(1, len(X_train)), train_errors, label='Training error')\n",
    "  plt.plot(range(1, len(X_train)), test_errors, label='Test error')\n",
    "  plt.xlabel('Training set size')\n",
    "  plt.ylabel('MAE')\n",
    "  plt.legend()\n",
    "  plt.grid()\n",
    "  plt.show()\n",
    " \n",
    "learning_curve(regressor)"
   ]
  },
  {
   "cell_type": "code",
   "execution_count": 8,
   "id": "23088339",
   "metadata": {},
   "outputs": [
    {
     "name": "stdout",
     "output_type": "stream",
     "text": [
      "最佳多項式次數: 2\n"
     ]
    }
   ],
   "source": [
    "from sklearn.model_selection import RandomizedSearchCV\n",
    "from sklearn.linear_model import LinearRegression\n",
    "from sklearn.preprocessing import PolynomialFeatures\n",
    "from sklearn.pipeline import make_pipeline\n",
    "import numpy as np\n",
    "\n",
    "# 定義多項式迴歸模型\n",
    "def create_polynomial_regression_model(degree):\n",
    "    polyreg = make_pipeline(PolynomialFeatures(degree), LinearRegression())\n",
    "    return polyreg\n",
    "\n",
    "# 準備要調整的參數\n",
    "param_dist = {\n",
    "    'polynomialfeatures__degree': [1, 2, 3, 4]  # 設定多項式的次數\n",
    "}\n",
    "\n",
    "# 創建多項式迴歸模型\n",
    "polyreg = create_polynomial_regression_model(degree=2)  # 初始次數為2\n",
    "\n",
    "# 使用 RandomizedSearchCV 尋找最佳次數\n",
    "random_search = RandomizedSearchCV(polyreg, param_distributions=param_dist, n_iter=4, cv=5, scoring='neg_mean_squared_error')\n",
    "random_search.fit(X_train, y_train)\n",
    "\n",
    "# 印出最佳參數\n",
    "print(\"最佳多項式次數:\", random_search.best_params_['polynomialfeatures__degree'])"
   ]
  },
  {
   "cell_type": "code",
   "execution_count": 9,
   "id": "3f6e431c",
   "metadata": {},
   "outputs": [],
   "source": [
    "# 導入多項式套件，建構多項式迴歸模型所需的套件\n",
    "from sklearn.preprocessing import PolynomialFeatures\n",
    "from sklearn.pipeline import make_pipeline\n",
    "\n",
    "# 創建多項式特徵轉換器\n",
    "polyreg = make_pipeline(PolynomialFeatures(2), LinearRegression())\n",
    "\n",
    "# 使用多項式迴歸模型進行訓練\n",
    "polyreg.fit(X_train, y_train)\n",
    "\n",
    "# 使用多項式迴歸模型進行預測\n",
    "y_pred = polyreg.predict(X_test)"
   ]
  },
  {
   "cell_type": "code",
   "execution_count": 10,
   "id": "26e03274",
   "metadata": {
    "scrolled": true
   },
   "outputs": [
    {
     "name": "stdout",
     "output_type": "stream",
     "text": [
      "平均平方誤差 (MSE): 31883359.496\n",
      "絕對平均誤差 (MAE): 4312.9705\n",
      "決定係數 (R2): 0.7788\n"
     ]
    }
   ],
   "source": [
    "# 導入評估模型\n",
    "from sklearn.metrics import mean_squared_error, r2_score, mean_absolute_error\n",
    "\n",
    "# 評估模型性能\n",
    "mse = mean_squared_error(y_test, y_pred)\n",
    "mae = mean_absolute_error(y_test, y_pred)\n",
    "r2 = r2_score(y_test, y_pred)\n",
    "print(\"平均平方誤差 (MSE):\", mse.round(4))\n",
    "print(\"絕對平均誤差 (MAE):\", mae.round(4))\n",
    "print(\"決定係數 (R2):\", r2.round(4))"
   ]
  }
 ],
 "metadata": {
  "kernelspec": {
   "display_name": "Python 3 (ipykernel)",
   "language": "python",
   "name": "python3"
  },
  "language_info": {
   "codemirror_mode": {
    "name": "ipython",
    "version": 3
   },
   "file_extension": ".py",
   "mimetype": "text/x-python",
   "name": "python",
   "nbconvert_exporter": "python",
   "pygments_lexer": "ipython3",
   "version": "3.9.12"
  }
 },
 "nbformat": 4,
 "nbformat_minor": 5
}
